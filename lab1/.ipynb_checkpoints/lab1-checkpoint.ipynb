{
 "cells": [
  {
   "cell_type": "code",
   "execution_count": 3,
   "metadata": {},
   "outputs": [
    {
     "name": "stdout",
     "output_type": "stream",
     "text": [
      "Розмірність: 8\n",
      "[[ 0  0 38 95  0  1 57  0]\n",
      " [ 0  0  0  0 79  0 36 19]\n",
      " [38  0  0 51  0  0 44  0]\n",
      " [95  0 51  0  0 44  0  0]\n",
      " [ 0 79  0  0  0 93 41 48]\n",
      " [ 1  0  0 44 93  0  1  0]\n",
      " [57 36 44  0 41  1  0  0]\n",
      " [ 0 19  0  0 48  0  0  0]]\n",
      "Edges in the constructed MST\n",
      "0 -- 5 == 1\n",
      "5 -- 6 == 1\n",
      "1 -- 7 == 19\n",
      "1 -- 6 == 36\n",
      "0 -- 2 == 38\n",
      "4 -- 6 == 41\n",
      "3 -- 5 == 44\n",
      "Minimum Spanning Tree 180\n"
     ]
    }
   ],
   "source": [
    "import numpy as np\n",
    "from graph import Graph\n",
    "with open(\"l1_3.txt\",'r') as f:\n",
    "    n = int(f.readline())\n",
    "    string = f.readlines()\n",
    "string_matrix = list(map(lambda y: y.strip().split(' '),string))\n",
    "matrix = np.array([list(map(int, x)) for x in string_matrix])\n",
    "print(f\"Розмірність: {n}\")\n",
    "print(matrix)\n",
    "g = Graph(n)\n",
    "for i in range(n-1):\n",
    "    for j in range(i,n):\n",
    "        if matrix[i][j] > 0:\n",
    "            g.addEdge(i, j, matrix[i][j])\n",
    "g.KruskalMST()"
   ]
  },
  {
   "cell_type": "code",
   "execution_count": null,
   "metadata": {},
   "outputs": [],
   "source": []
  }
 ],
 "metadata": {
  "kernelspec": {
   "display_name": "Python 3",
   "language": "python",
   "name": "python3"
  },
  "language_info": {
   "codemirror_mode": {
    "name": "ipython",
    "version": 3
   },
   "file_extension": ".py",
   "mimetype": "text/x-python",
   "name": "python",
   "nbconvert_exporter": "python",
   "pygments_lexer": "ipython3",
   "version": "3.8.3"
  }
 },
 "nbformat": 4,
 "nbformat_minor": 4
}
